{
 "cells": [
  {
   "cell_type": "code",
   "execution_count": 1,
   "metadata": {},
   "outputs": [
    {
     "name": "stderr",
     "output_type": "stream",
     "text": [
      "pybullet build time: May 20 2022 19:44:17\n"
     ]
    }
   ],
   "source": [
    "import time\n",
    "import argparse\n",
    "import gym\n",
    "import numpy as np\n",
    "from stable_baselines3 import A2C\n",
    "from stable_baselines3.a2c import MlpPolicy\n",
    "from stable_baselines3.common.env_checker import check_env\n",
    "import ray\n",
    "from ray.tune import register_env\n",
    "from ray.rllib.agents import ppo\n",
    "\n",
    "from gym_pybullet_drones.utils.Logger import Logger\n",
    "from gym_pybullet_drones.envs.single_agent_rl.TakeoffAviary import TakeoffAviary\n",
    "from gym_pybullet_drones.utils.utils import sync, str2bool\n",
    "\n",
    "DEFAULT_RLLIB = False\n",
    "DEFAULT_GUI = True\n",
    "DEFAULT_RECORD_VIDEO = False\n",
    "DEFAULT_OUTPUT_FOLDER = 'results'\n",
    "DEFAULT_COLAB = False"
   ]
  },
  {
   "cell_type": "code",
   "execution_count": null,
   "metadata": {},
   "outputs": [],
   "source": [
    "env = gym.make(\"takeoff-aviary-v0\")\n",
    "print(\"[INFO] Action space:\", env.action_space)\n",
    "print(\"[INFO] Observation space:\", env.observation_space)\n",
    "check_env(env,\n",
    "            warn=True,\n",
    "            skip_render_check=True\n",
    "            )\n",
    "obs=env.reset()\n",
    "done = False\n",
    "\n",
    "while not done:\n",
    "    env.render()\n",
    "    action = env.action_space.sample()\n",
    "    obs, reward, done, info = env.step(action)\n",
    "    # if done:\n",
    "    #     obs = env.reset()"
   ]
  },
  {
   "cell_type": "code",
   "execution_count": null,
   "metadata": {},
   "outputs": [],
   "source": [
    "env = TakeoffAviary(gui=False,record=False)\n",
    "\n",
    "for i in range(1):\n",
    "    obs = env.reset()\n",
    "    done = False\n",
    "\n",
    "    while not done:\n",
    "        env.render()\n",
    "        action = env.action_space.sample()\n",
    "        obs, reward, done, info = env.step(action)\n",
    "        print(reward)\n",
    "        # time.sleep(0.01)\n",
    "\n",
    "env.close()"
   ]
  },
  {
   "cell_type": "code",
   "execution_count": null,
   "metadata": {},
   "outputs": [],
   "source": [
    "logger = Logger(logging_freq_hz=int(env.SIM_FREQ/env.AGGR_PHY_STEPS),\n",
    "                    num_drones=1,\n",
    "                    output_folder='results',\n",
    "                    colab=False\n",
    "                    )\n",
    "env = TakeoffAviary(gui=True,record=False)\n",
    "obs = env.reset()\n",
    "start = time.time()\n",
    "for i in range(10*env.SIM_FREQ):\n",
    "    action = env.action_space.sample()\n",
    "    obs, reward, done, info = env.step(action)\n",
    "    logger.log(drone=0,\n",
    "                   timestamp=i/env.SIM_FREQ,\n",
    "                   state=np.hstack([obs[0:3], np.zeros(4), obs[3:15],  np.resize(action, (4))]),\n",
    "                   control=np.zeros(12)\n",
    "                   )\n",
    "    if i%env.SIM_FREQ == 0:\n",
    "        env.render()\n",
    "        print(done)\n",
    "    sync(i, start, env.TIMESTEP)\n",
    "    if done:\n",
    "        obs = env.reset()\n",
    "env.close()\n",
    "logger.plot()"
   ]
  },
  {
   "cell_type": "code",
   "execution_count": null,
   "metadata": {},
   "outputs": [],
   "source": [
    "env = TakeoffAviary(gui=True,record=False)\n",
    "env.reset()"
   ]
  },
  {
   "cell_type": "code",
   "execution_count": 3,
   "metadata": {},
   "outputs": [
    {
     "name": "stdout",
     "output_type": "stream",
     "text": [
      "[INFO] BaseAviary.__init__() loaded parameters from the drone's .urdf:\n",
      "[INFO] m 0.027000, L 0.039700,\n",
      "[INFO] ixx 0.000014, iyy 0.000014, izz 0.000022,\n",
      "[INFO] kf 0.000000, km 0.000000,\n",
      "[INFO] t2w 2.250000, max_speed_kmh 30.000000,\n",
      "[INFO] gnd_eff_coeff 11.368590, prop_radius 0.023135,\n",
      "[INFO] drag_xy_coeff 0.000001, drag_z_coeff 0.000001,\n",
      "[INFO] dw_coeff_1 2267.180000, dw_coeff_2 0.160000, dw_coeff_3 -0.110000\n",
      "[INFO] Action space: Box([-1. -1. -1. -1.], [1. 1. 1. 1.], (4,), float32)\n",
      "[INFO] Observation space: Box([-1. -1.  0. -1. -1. -1. -1. -1. -1. -1. -1. -1.], [1. 1. 1. 1. 1. 1. 1. 1. 1. 1. 1. 1.], (12,), float32)\n"
     ]
    },
    {
     "name": "stderr",
     "output_type": "stream",
     "text": [
      "/home/zkd/miniconda3/envs/flight/lib/python3.8/site-packages/gym/spaces/box.py:73: UserWarning: \u001b[33mWARN: Box bound precision lowered by casting to float32\u001b[0m\n",
      "  logger.warn(\n"
     ]
    },
    {
     "data": {
      "text/plain": [
       "array([ 0.    ,  0.    ,  0.0225,  0.    , -0.    ,  0.    ,  0.    ,\n",
       "        0.    ,  0.    ,  0.    ,  0.    ,  0.    ], dtype=float32)"
      ]
     },
     "execution_count": 3,
     "metadata": {},
     "output_type": "execute_result"
    }
   ],
   "source": [
    "env = TakeoffAviary(gui=False,record=False)\n",
    "# env = gym.make(\"takeoff-aviary-v0\")\n",
    "print(\"[INFO] Action space:\", env.action_space)\n",
    "print(\"[INFO] Observation space:\", env.observation_space)\n",
    "env.reset()"
   ]
  },
  {
   "cell_type": "code",
   "execution_count": 28,
   "metadata": {},
   "outputs": [
    {
     "data": {
      "text/plain": [
       "array([ 0.    ,  0.    ,  0.0225,  0.    , -0.    ,  0.    ,  0.    ,\n",
       "        0.    ,  0.    ,  0.    ,  0.    ,  0.    ], dtype=float32)"
      ]
     },
     "execution_count": 28,
     "metadata": {},
     "output_type": "execute_result"
    }
   ],
   "source": [
    "env.reset()"
   ]
  },
  {
   "cell_type": "code",
   "execution_count": 23,
   "metadata": {},
   "outputs": [
    {
     "name": "stdout",
     "output_type": "stream",
     "text": [
      "[ 0.          0.          0.02870958  0.          0.         -0.3052494\n",
      "  0.          0.          0.04090336  0.          0.         -1.        ]\n",
      "============\n",
      "[[0.         0.         0.14354791]]\n",
      "[[0.         0.         0.12271008]]\n",
      "[[ 0.          0.         -0.95896927]]\n",
      "[[ 0.          0.         -3.74521193]]\n"
     ]
    }
   ],
   "source": [
    "# action = env.action_space.sample()\n",
    "for i in range(10):\n",
    "    obs, reward, done, info = env.step(np.array([0.5,0,0.5,0]))\n",
    "    if done:\n",
    "        print('done')\n",
    "print(obs)\n",
    "print('============')\n",
    "print(env.pos)\n",
    "print(env.vel)\n",
    "print(env.rpy)\n",
    "print(env.ang_v)"
   ]
  },
  {
   "cell_type": "code",
   "execution_count": 79,
   "metadata": {},
   "outputs": [
    {
     "name": "stdout",
     "output_type": "stream",
     "text": [
      "numActiveThreads = 0\n",
      "stopping threads\n",
      "Thread with taskId 0 exiting\n",
      "Thread TERMINATED\n",
      "destroy semaphore\n",
      "semaphore destroyed\n",
      "destroy main semaphore\n",
      "main semaphore destroyed\n",
      "finished\n",
      "numActiveThreads = 0\n",
      "btShutDownExampleBrowser stopping threads\n",
      "Thread with taskId 0 exiting\n",
      "Thread TERMINATED\n",
      "destroy semaphore\n",
      "semaphore destroyed\n",
      "destroy main semaphore\n",
      "main semaphore destroyed\n"
     ]
    }
   ],
   "source": [
    "env.close()"
   ]
  },
  {
   "cell_type": "code",
   "execution_count": 12,
   "metadata": {},
   "outputs": [],
   "source": [
    "# print(env.pos)\n",
    "# print(env.vel)\n",
    "# print(env.rpy)\n",
    "# print(env.ang_v)\n",
    "\n",
    "env.pos=np.array([[0.5,0.5,0.5]])"
   ]
  },
  {
   "cell_type": "code",
   "execution_count": 30,
   "metadata": {},
   "outputs": [
    {
     "data": {
      "text/plain": [
       "array([1])"
      ]
     },
     "execution_count": 30,
     "metadata": {},
     "output_type": "execute_result"
    }
   ],
   "source": [
    "env.DRONE_IDS"
   ]
  }
 ],
 "metadata": {
  "kernelspec": {
   "display_name": "flight",
   "language": "python",
   "name": "python3"
  },
  "language_info": {
   "codemirror_mode": {
    "name": "ipython",
    "version": 3
   },
   "file_extension": ".py",
   "mimetype": "text/x-python",
   "name": "python",
   "nbconvert_exporter": "python",
   "pygments_lexer": "ipython3",
   "version": "3.8.17"
  },
  "orig_nbformat": 4
 },
 "nbformat": 4,
 "nbformat_minor": 2
}
